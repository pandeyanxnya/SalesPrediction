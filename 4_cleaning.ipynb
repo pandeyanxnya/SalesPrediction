{
 "cells": [
  {
   "cell_type": "code",
   "execution_count": 1,
   "metadata": {},
   "outputs": [],
   "source": [
    "import pandas as pd\n",
    "\n",
    "## Handling missing values\n",
    "\n",
    "df = pd.read_csv(r'Hyundai_sales_data.csv')\n",
    "df_cleaned = df.dropna(how='all', subset=[col for col in df.columns if col not in ['Make', 'Year']])\n",
    "df_cleaned.to_csv('Dataset_hyundai.csv', index=False)"
   ]
  },
  {
   "cell_type": "code",
   "execution_count": 2,
   "metadata": {},
   "outputs": [],
   "source": [
    "df = pd.read_csv(r'Kia_sales_data.csv')\n",
    "df_cleaned = df.dropna(how='all', subset=[col for col in df.columns if col not in ['Make', 'Year']])\n",
    "df_cleaned.to_csv('Dataset_kia.csv', index=False)"
   ]
  },
  {
   "cell_type": "code",
   "execution_count": 4,
   "metadata": {},
   "outputs": [],
   "source": [
    "df = pd.read_csv(r'Dataset_hyundai.csv')\n",
    "\n",
    "month_columns = ['Jan', 'Feb', 'Mar', 'Apr', 'May', 'Jun', 'Jul', 'Aug', 'Sep', 'Oct', 'Nov', 'Dec']\n",
    "\n",
    "df[month_columns] = df[month_columns].fillna(0)\n",
    "df.to_csv(r'Hyundai_sales_data.csv', index=False)"
   ]
  },
  {
   "cell_type": "code",
   "execution_count": 5,
   "metadata": {},
   "outputs": [],
   "source": [
    "df_hyundai = pd.read_csv(r'Hyundai_sales_data.csv')\n",
    "df_kia = pd.read_csv(r'Kia_sales_data.csv')\n",
    "\n",
    "df_combined = pd.concat([df_hyundai, df_kia], ignore_index=True)\n",
    "df_combined.to_csv(r'Sales_data.csv', index=False)"
   ]
  }
 ],
 "metadata": {
  "kernelspec": {
   "display_name": "Python 3",
   "language": "python",
   "name": "python3"
  },
  "language_info": {
   "codemirror_mode": {
    "name": "ipython",
    "version": 3
   },
   "file_extension": ".py",
   "mimetype": "text/x-python",
   "name": "python",
   "nbconvert_exporter": "python",
   "pygments_lexer": "ipython3",
   "version": "3.12.0"
  }
 },
 "nbformat": 4,
 "nbformat_minor": 2
}
