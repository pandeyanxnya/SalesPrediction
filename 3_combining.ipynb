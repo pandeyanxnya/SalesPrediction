{
 "cells": [
  {
   "cell_type": "code",
   "execution_count": 4,
   "metadata": {},
   "outputs": [],
   "source": [
    "import pandas as pd\n",
    "\n",
    "# Load the datasets\n",
    "df_2020 = pd.read_csv(r'Dataset\\Hyundai\\Hyundai 2020.csv')\n",
    "df_2021 = pd.read_csv(r'Dataset\\Hyundai\\Hyundai 2021.csv')\n",
    "df_2022 = pd.read_csv(r'Dataset\\Hyundai\\Hyundai 2022.csv')\n",
    "df_2023 = pd.read_csv(r'Dataset\\Hyundai\\Hyundai 2023.csv')\n",
    "df_2024 = pd.read_csv(r'Dataset\\Hyundai\\Hyundai 2024.csv')\n",
    "\n",
    "# Function to standardize month column names\n",
    "def clean_columns(df):\n",
    "    df.columns = df.columns.str.replace(r'\\.', '', regex=True).str.strip()\n",
    "    return df\n",
    "\n",
    "# Apply the function to each dataset\n",
    "df_2020 = clean_columns(df_2020)\n",
    "df_2021 = clean_columns(df_2021)\n",
    "df_2022 = clean_columns(df_2022)\n",
    "df_2023 = clean_columns(df_2023)\n",
    "df_2024 = clean_columns(df_2024)\n",
    "\n",
    "# Save the cleaned datasets\n",
    "df_2020.to_csv('cleaned_2020_sales.csv', index=False)\n",
    "df_2021.to_csv('cleaned_2021_sales.csv', index=False)\n",
    "df_2022.to_csv('cleaned_2022_sales.csv', index=False)\n",
    "df_2023.to_csv('cleaned_2023_sales.csv', index=False)\n",
    "df_2024.to_csv('cleaned_2024_sales.csv', index=False)"
   ]
  },
  {
   "cell_type": "code",
   "execution_count": 7,
   "metadata": {},
   "outputs": [],
   "source": [
    "import pandas as pd\n",
    "\n",
    "# Load the datasets with file paths\n",
    "df_2020 = pd.read_csv(r'Dataset\\KIA\\KIA 2020.csv')\n",
    "df_2021 = pd.read_csv(r'Dataset\\KIA\\KIA 2021.csv')\n",
    "df_2022 = pd.read_csv(r'Dataset\\KIA\\KIA 2022.csv')\n",
    "df_2023 = pd.read_csv(r'Dataset\\KIA\\KIA 2023.csv')\n",
    "df_2024 = pd.read_csv(r'Dataset\\KIA\\KIA 2024.csv')\n",
    "\n",
    "# Add a new column for the year in each dataframe\n",
    "df_2020['Year'] = 2020\n",
    "df_2021['Year'] = 2021\n",
    "df_2022['Year'] = 2022\n",
    "df_2023['Year'] = 2023\n",
    "df_2024['Year'] = 2024\n",
    "\n",
    "# Combine all the datasets into one\n",
    "combined_df = pd.concat([df_2020, df_2021, df_2022, df_2023, df_2024], ignore_index=True)\n",
    "\n",
    "# Save the combined dataset\n",
    "combined_df.to_csv(r'Dataset\\KIA\\combined_sales_data.csv', index=False)\n"
   ]
  }
 ],
 "metadata": {
  "kernelspec": {
   "display_name": "Python 3",
   "language": "python",
   "name": "python3"
  },
  "language_info": {
   "codemirror_mode": {
    "name": "ipython",
    "version": 3
   },
   "file_extension": ".py",
   "mimetype": "text/x-python",
   "name": "python",
   "nbconvert_exporter": "python",
   "pygments_lexer": "ipython3",
   "version": "3.12.0"
  }
 },
 "nbformat": 4,
 "nbformat_minor": 2
}
