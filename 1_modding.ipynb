{
 "cells": [
  {
   "cell_type": "code",
   "execution_count": 11,
   "metadata": {},
   "outputs": [
    {
     "name": "stdout",
     "output_type": "stream",
     "text": [
      "Excel file has been successfully converted to CSV.\n"
     ]
    }
   ],
   "source": [
    "import pandas as pd\n",
    "\n",
    "df = pd.read_excel(r'D:\\MINOR\\Dataset\\Hyundai\\2024-sales-by-model.xlsx', header=[0, 1])\n",
    "\n",
    "df.columns = [' '.join(col).strip() for col in df.columns.values]\n",
    "\n",
    "df.to_csv(r'D:\\MINOR\\Dataset\\Hyundai\\cleaned_2024_sales.csv', index=False)\n",
    "\n",
    "print(\"Excel file has been successfully converted to CSV.\")\n"
   ]
  },
  {
   "cell_type": "code",
   "execution_count": 24,
   "metadata": {},
   "outputs": [
    {
     "name": "stdout",
     "output_type": "stream",
     "text": [
      "Excel file has been successfully converted to CSV.\n"
     ]
    }
   ],
   "source": [
    "import pandas as pd\n",
    "\n",
    "df = pd.read_excel(r'D:\\MINOR\\Dataset\\KIA\\2024 Sales by Model.xlsx', header=[0, 1])\n",
    "\n",
    "df.columns = [' '.join(col).strip() for col in df.columns.values]\n",
    "\n",
    "df.to_csv(r'D:\\MINOR\\Dataset\\KIA\\Kcleaned_2024_sales.csv', index=False)\n",
    "\n",
    "print(\"Excel file has been successfully converted to CSV.\")"
   ]
  },
  {
   "cell_type": "code",
   "execution_count": 15,
   "metadata": {},
   "outputs": [
    {
     "name": "stdout",
     "output_type": "stream",
     "text": [
      "Collecting xlrd\n",
      "  Downloading xlrd-2.0.1-py2.py3-none-any.whl.metadata (3.4 kB)\n",
      "Downloading xlrd-2.0.1-py2.py3-none-any.whl (96 kB)\n",
      "Installing collected packages: xlrd\n",
      "Successfully installed xlrd-2.0.1\n"
     ]
    }
   ],
   "source": [
    "!pip install xlrd"
   ]
  },
  {
   "cell_type": "code",
   "execution_count": 7,
   "metadata": {},
   "outputs": [],
   "source": [
    "import pandas as pd\n",
    "\n",
    "file_path = r'Dataset\\Hyundai\\cleaned_2020_sales.csv'\n",
    "df = pd.read_csv(file_path)\n",
    "\n",
    "df = df.iloc[1:, 1:]  # Remove the first row and first column\n",
    "df.columns = ['Model Type', 'Model'] + df.columns.tolist()[2:]  # Rename columns\n",
    "\n",
    "df.to_csv('cleaned_rearranged_sales.csv', index=False)\n"
   ]
  }
 ],
 "metadata": {
  "kernelspec": {
   "display_name": "Python 3",
   "language": "python",
   "name": "python3"
  },
  "language_info": {
   "codemirror_mode": {
    "name": "ipython",
    "version": 3
   },
   "file_extension": ".py",
   "mimetype": "text/x-python",
   "name": "python",
   "nbconvert_exporter": "python",
   "pygments_lexer": "ipython3",
   "version": "3.12.0"
  }
 },
 "nbformat": 4,
 "nbformat_minor": 2
}
